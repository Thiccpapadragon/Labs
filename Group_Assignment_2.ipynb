{
  "nbformat": 4,
  "nbformat_minor": 0,
  "metadata": {
    "colab": {
      "name": "Group Assignment 2.IPYNB",
      "provenance": [],
      "authorship_tag": "ABX9TyN6CJBTFIc8snherHzofbJW",
      "include_colab_link": true
    },
    "kernelspec": {
      "name": "python3",
      "display_name": "Python 3"
    }
  },
  "cells": [
    {
      "cell_type": "markdown",
      "metadata": {
        "id": "view-in-github",
        "colab_type": "text"
      },
      "source": [
        "<a href=\"https://colab.research.google.com/github/Thiccpapadragon/Labs/blob/main/Group_Assignment_2.ipynb\" target=\"_parent\"><img src=\"https://colab.research.google.com/assets/colab-badge.svg\" alt=\"Open In Colab\"/></a>"
      ]
    },
    {
      "cell_type": "markdown",
      "metadata": {
        "id": "A1gxyY3XfVVw"
      },
      "source": [
        "## Completed by: Tara Osborne, Sydney Zaref, Jalen Dollesin"
      ]
    },
    {
      "cell_type": "markdown",
      "metadata": {
        "id": "MXRANIrpfjBZ"
      },
      "source": [
        "## Description:"
      ]
    },
    {
      "cell_type": "markdown",
      "metadata": {
        "id": "d6HHVbNyfobF"
      },
      "source": [
        "Our project was meant to provide a streamlined diagram of the 2020 election. As such, we had to add appropriate entity tables, which were: candidates, campaigns, political parties, ballot, election, and polling location. In each of these tables, we included the appropriate attributes. Each primary key was assigned based off of the assumption that each entity would have its own unique ID. For the connectivity phrases/verbs, we made sure to select ones that made sense to connect the entities. We made sure to appropriately label foreign keys when necessary. Finally, we double checked to be sure that our diagram was in 1NF and that our entity tables were not too closely packed together so that the diagram could be legible and easy to follow, which was the entire goal of our diagram in the first place."
      ]
    },
    {
      "cell_type": "markdown",
      "metadata": {
        "id": "HrA_jp8_isFX"
      },
      "source": [
        "## Connection Explanations:"
      ]
    },
    {
      "cell_type": "markdown",
      "metadata": {
        "id": "P-kj_R_2iusw"
      },
      "source": [
        "Election to Candidate: The cardinality was (1,2) and (1,1), as there can only be up to two potential candidates during the final stage of the election and they can only be a part of that one specific election.\n",
        "\n",
        "Candidate to Campaign: The cardinality was (1,1) and (1,1) because there can only be one presidential candidate for a single given campaign.\n",
        "\n",
        "Candidate to Political Party: The cardinality was (1,1) and (1,1) as a candidate can only be associated with a single political party.\n",
        "\n",
        "Election to Ballot: The cardinality here was (1,1) and (1,300,000) because a ballot can only be for one election, however there are many ballots in a single election.\n",
        "\n",
        "Election to Polling Location: The cardinality was (1,1) and (1,30,000) because there are a large number of polling locations during a single election.\n"
      ]
    },
    {
      "cell_type": "markdown",
      "metadata": {
        "id": "HXqG-tAVmlCB"
      },
      "source": [
        "## Diagram:"
      ]
    },
    {
      "cell_type": "markdown",
      "metadata": {
        "id": "PFWv-u-CmxoG"
      },
      "source": [
        "![Election Diagram](https://raw.githubusercontent.com/Thiccpapadragon/Labs/main/Group%20Assignment%20ER%20Diagram.png)"
      ]
    }
  ]
}
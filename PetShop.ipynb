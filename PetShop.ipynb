{
  "nbformat": 4,
  "nbformat_minor": 0,
  "metadata": {
    "colab": {
      "name": "PetShop.ipynb",
      "provenance": [],
      "collapsed_sections": [],
      "authorship_tag": "ABX9TyMC63z/m2m7ApWye2cHusZk",
      "include_colab_link": true
    },
    "kernelspec": {
      "name": "python3",
      "display_name": "Python 3"
    }
  },
  "cells": [
    {
      "cell_type": "markdown",
      "metadata": {
        "id": "view-in-github",
        "colab_type": "text"
      },
      "source": [
        "<a href=\"https://colab.research.google.com/github/Thiccpapadragon/Labs/blob/main/PetShop.ipynb\" target=\"_parent\"><img src=\"https://colab.research.google.com/assets/colab-badge.svg\" alt=\"Open In Colab\"/></a>"
      ]
    },
    {
      "cell_type": "code",
      "metadata": {
        "id": "jZ_OMBkE7HL4"
      },
      "source": [
        ""
      ],
      "execution_count": null,
      "outputs": []
    },
    {
      "cell_type": "markdown",
      "metadata": {
        "id": "2XEAN7rI8B-_"
      },
      "source": [
        "# ER Diagram Description"
      ]
    },
    {
      "cell_type": "markdown",
      "metadata": {
        "id": "KP2l3gcM8J1K"
      },
      "source": [
        "Starting with the six entity tables present on the ER diagram, the title of each table and the connecting verbs between them were assigned based on the scenario given to us. Additionally, I assigned primary keys based on the idea that each customer, pet, or item would have a unique ID. Attributes were added to each entity table based on what I think would be reasonable to include in an actual database. Finally, I made sure to note if a primary key was used as foreign key in another table."
      ]
    },
    {
      "cell_type": "markdown",
      "metadata": {
        "id": "CLbi3pkBAE1C"
      },
      "source": [
        "## Connection expanations:"
      ]
    },
    {
      "cell_type": "markdown",
      "metadata": {
        "id": "gbG5izRqAMDD"
      },
      "source": [
        "Customers to Loyalty Program: I chose to use a (1,1) and (0,1) cardinality as I believe that a loyalty account will have one and only one customer that will choose to either enroll or not enroll in the program.\n",
        "\n",
        "Customers to Transactions: I chose to use a (1,1) and (1,50) cardinality notation as I think that a single customer can have anywhere from one to fifty transactions in a single year.\n",
        "\n",
        "Pets to Enclosure: I chose to use a (0,15) and (1,1) cardinality as I think that anywhere from zero to fifteen pets can belong to a single enclosure.\n",
        "\n",
        "Pets to Transactions: I chose to use a (0,10) and (1,1) cardinality as I think that anywhere from zero to ten pets would be bought in a single transaction.\n",
        "\n",
        "Pets to Food: I chose to use a (1,15) and (1, 100) cardinality as I think that one to fifteen pets can be fed using one to one hundred bags of food in a year.\n",
        "\n",
        "Transactions to Loyalty Program: I chose to use a (0,50) and (1,1) cardinality as I think that one loyalty member may be eligible for discounts on anywhere from zero to fifty transactions.\n",
        "\n",
        "Transactions to Food: I chose to use (1,1) and (0,20) cardinality as a single transaction can have anywhere from zero to twenty bags of food reasonably.\n"
      ]
    },
    {
      "cell_type": "markdown",
      "metadata": {
        "id": "MXzXhqCrHQul"
      },
      "source": [
        "![Pet shop ER diagram](https://raw.githubusercontent.com/Thiccpapadragon/Practice/master/Images/Pet%20Shop.png)"
      ]
    }
  ]
}